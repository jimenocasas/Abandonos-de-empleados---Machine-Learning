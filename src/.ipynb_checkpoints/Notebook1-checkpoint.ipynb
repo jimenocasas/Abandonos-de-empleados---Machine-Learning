{
 "cells": [
  {
   "cell_type": "markdown",
   "id": "78ba6e2f-0788-4665-b6fb-57fb5df95f98",
   "metadata": {
    "jp-MarkdownHeadingCollapsed": true
   },
   "source": [
    "# Exploración de Datos Inicial (EDA) 📊\n",
    "En esta sección, comenzamos el análisis exploratorio de datos (EDA) cargando los conjuntos de datos disponibles. Definimos las rutas de los archivos y configuramos algunos elementos visuales para mejorar la presentación de los resultados en la terminal."
   ]
  },
  {
   "cell_type": "code",
   "execution_count": 1,
   "id": "0d323ed3-e2e1-48e8-a7be-380021983eb5",
   "metadata": {},
   "outputs": [],
   "source": [
    "import pandas as pd\n",
    "\n",
    "# 🎨 ANSI Colors para salida en terminal\n",
    "BLUE = \"\\033[94m\"\n",
    "GREEN = \"\\033[92m\"\n",
    "YELLOW = \"\\033[93m\"\n",
    "RED = \"\\033[91m\"\n",
    "RESET = \"\\033[0m\"\n",
    "\n",
    "# 📂 Paths\n",
    "FILE_PATH_AVAILABLE = (\"../attrition_datasets/train_test\"\n",
    "                       \"/attrition_availabledata_07.csv/attrition_availabledata_07.csv\")\n",
    "FILE_PATH_COMPETITION = \"../attrition_datasets/train_test/attrition_competition_07.csv/attrition_competition_07.csv\"\n"
   ]
  },
  {
   "cell_type": "markdown",
   "id": "abc1b86e-4f64-49a3-8dea-a982b05fe05d",
   "metadata": {},
   "source": [
    "## 📥 Carga de datos\n",
    "Leemos los archivos CSV correspondientes al dataset de entrenamiento (`Available Data`) y al de competición (`Competition Data`) y mostramos un mensaje formateado.\n"
   ]
  },
  {
   "cell_type": "code",
   "execution_count": 2,
   "id": "7deda267-b0d9-4b68-abdc-4c3d86de9eed",
   "metadata": {},
   "outputs": [
    {
     "name": "stdout",
     "output_type": "stream",
     "text": [
      "\u001b[94m🎯 Iniciando análisis exploratorio de datos (EDA)...\u001b[0m\n",
      "\u001b[94m📥 Cargando dataset: Available Data...\u001b[0m\n",
      "\u001b[92m✅ Dataset Available Data cargado con 2940 filas y 31 columnas.\u001b[0m\n",
      "\u001b[94m📥 Cargando dataset: Competition Data...\u001b[0m\n",
      "\u001b[92m✅ Dataset Competition Data cargado con 1470 filas y 30 columnas.\u001b[0m\n"
     ]
    }
   ],
   "source": [
    "def print_status(message, status=\"info\"):\n",
    "    colors = {\"info\": BLUE, \"success\": GREEN, \"warning\": YELLOW, \"error\": RED}\n",
    "    print(f\"{colors.get(status, RESET)}{message}{RESET}\")\n",
    "\n",
    "print_status(\"🎯 Iniciando análisis exploratorio de datos (EDA)...\", \"info\")\n",
    "\n",
    "print_status(\"📥 Cargando dataset: Available Data...\", \"info\")\n",
    "df_available = pd.read_csv(FILE_PATH_AVAILABLE)\n",
    "print_status(\n",
    "    f\"✅ Dataset Available Data cargado con {df_available.shape[0]} filas y {df_available.shape[1]} columnas.\",\n",
    "    \"success\")\n",
    "\n",
    "print_status(\"📥 Cargando dataset: Competition Data...\", \"info\")\n",
    "df_competition = pd.read_csv(FILE_PATH_COMPETITION)\n",
    "print_status(\n",
    "    f\"✅ Dataset Competition Data cargado con {df_competition.shape[0]} filas y {df_competition.shape[1]} columnas.\",\n",
    "    \"success\")\n"
   ]
  },
  {
   "cell_type": "markdown",
   "id": "9ddbefc3-b32c-4343-bd49-975803694ba5",
   "metadata": {},
   "source": [
    "## 📊 Información general de los datasets\n",
    "Mostramos el número de filas, columnas y tipos de datos para ambos datasets.\n"
   ]
  },
  {
   "cell_type": "code",
   "execution_count": 3,
   "id": "03d06d59-4ad5-4a84-8bb3-0565ba66011a",
   "metadata": {},
   "outputs": [
    {
     "name": "stdout",
     "output_type": "stream",
     "text": [
      "\u001b[94m📊 Analizando dataset: Available Data...\u001b[0m\n",
      "\n",
      "# Información del dataset: Available Data\n",
      "- 📌 Número de instancias: 2940\n",
      "- 📌 Número de variables: 31\n",
      "\n",
      "🗂️ Tipos de datos:\n",
      "- int64 (17 columnas)\n",
      "- object (8 columnas)\n",
      "- float64 (6 columnas)\n",
      "\u001b[92m✅ Información general mostrada.\u001b[0m\n",
      "\u001b[94m📊 Analizando dataset: Competition Data...\u001b[0m\n",
      "\n",
      "# Información del dataset: Competition Data\n",
      "- 📌 Número de instancias: 1470\n",
      "- 📌 Número de variables: 30\n",
      "\n",
      "🗂️ Tipos de datos:\n",
      "- int64 (17 columnas)\n",
      "- object (7 columnas)\n",
      "- float64 (6 columnas)\n",
      "\u001b[92m✅ Información general mostrada.\u001b[0m\n"
     ]
    }
   ],
   "source": [
    "def dataset_info(df, name):\n",
    "    print_status(f\"📊 Analizando dataset: {name}...\", \"info\")\n",
    "    print(f\"\\n# Información del dataset: {name}\")\n",
    "    print(f\"- 📌 Número de instancias: {df.shape[0]}\")\n",
    "    print(f\"- 📌 Número de variables: {df.shape[1]}\\n\")\n",
    "\n",
    "    print(\"🗂️ Tipos de datos:\")\n",
    "    for dtype, count in df.dtypes.value_counts().items():\n",
    "        print(f\"- {dtype} ({count} columnas)\")\n",
    "\n",
    "    print_status(\"✅ Información general mostrada.\", \"success\")\n",
    "\n",
    "dataset_info(df_available, \"Available Data\")\n",
    "dataset_info(df_competition, \"Competition Data\")\n"
   ]
  },
  {
   "cell_type": "markdown",
   "id": "6e6d30e0-d606-4d92-85d6-9f1308c7879d",
   "metadata": {},
   "source": [
    "## 🔍 Identificación de tipos de variables\n",
    "Detectamos y mostramos qué variables son categóricas y cuáles son numéricas.\n"
   ]
  },
  {
   "cell_type": "code",
   "execution_count": 4,
   "id": "6ae1ab56-11fe-40ab-b43a-8bb4714ee458",
   "metadata": {},
   "outputs": [
    {
     "name": "stdout",
     "output_type": "stream",
     "text": [
      "\u001b[94m📊 Identificando tipos de variables...\u001b[0m\n",
      "\n",
      "# 🔍 Tipos de variables\n",
      "\n",
      "📂 Variables categóricas: BusinessTravel, Department, EducationField, Gender, JobRole, MaritalStatus, Over18, Attrition\n",
      "\n",
      "📈 Variables numéricas: hrs, absences, JobInvolvement, PerformanceRating, EnvironmentSatisfaction, JobSatisfaction, WorkLifeBalance, Age, DistanceFromHome, Education, EmployeeCount, EmployeeID, JobLevel, MonthlyIncome, NumCompaniesWorked, PercentSalaryHike, StandardHours, StockOptionLevel, TotalWorkingYears, TrainingTimesLastYear, YearsAtCompany, YearsSinceLastPromotion, YearsWithCurrManager\n",
      "\u001b[92m✅ Identificación de variables completada.\u001b[0m\n"
     ]
    }
   ],
   "source": [
    "print_status(\"📊 Identificando tipos de variables...\", \"info\")\n",
    "categorical_vars = df_available.select_dtypes(include=['object']).columns.tolist()\n",
    "numerical_vars = df_available.select_dtypes(include=['int64', 'float64']).columns.tolist()\n",
    "\n",
    "print(\"\\n# 🔍 Tipos de variables\")\n",
    "print(\"\\n📂 Variables categóricas:\", \", \".join(categorical_vars))\n",
    "print(\"\\n📈 Variables numéricas:\", \", \".join(numerical_vars))\n",
    "\n",
    "print_status(\"✅ Identificación de variables completada.\", \"success\")\n"
   ]
  },
  {
   "cell_type": "markdown",
   "id": "3ebcad2a-f7c8-435c-90bf-5916af58c3c2",
   "metadata": {},
   "source": [
    "## ⚠️ Análisis de valores faltantes\n",
    "Buscamos columnas con valores nulos y mostramos su cantidad, si las hay.\n"
   ]
  },
  {
   "cell_type": "code",
   "execution_count": 5,
   "id": "b848f753-c9ca-43b4-b5fd-6e294406c638",
   "metadata": {},
   "outputs": [
    {
     "name": "stdout",
     "output_type": "stream",
     "text": [
      "\u001b[94m🔍 Buscando valores faltantes...\u001b[0m\n",
      "\n",
      "# ⚠️ Valores faltantes\n",
      "- EnvironmentSatisfaction: 20 valores faltantes\n",
      "- JobSatisfaction: 16 valores faltantes\n",
      "- WorkLifeBalance: 24 valores faltantes\n",
      "- NumCompaniesWorked: 15 valores faltantes\n",
      "- TotalWorkingYears: 7 valores faltantes\n",
      "\u001b[92m✅ Análisis de valores faltantes completado.\u001b[0m\n"
     ]
    }
   ],
   "source": [
    "print_status(\"🔍 Buscando valores faltantes...\", \"info\")\n",
    "missing = df_available.isnull().sum()\n",
    "missing = missing[missing > 0]\n",
    "\n",
    "print(\"\\n# ⚠️ Valores faltantes\")\n",
    "if missing.empty:\n",
    "    print(\"No se encontraron valores faltantes.\")\n",
    "else:\n",
    "    for col, count in missing.items():\n",
    "        print(f\"- {col}: {count} valores faltantes\")\n",
    "\n",
    "print_status(\"✅ Análisis de valores faltantes completado.\", \"success\")\n"
   ]
  },
  {
   "cell_type": "markdown",
   "id": "00805918-6c22-436e-98be-7458c30a90cd",
   "metadata": {},
   "source": [
    "## 🔢 Detección de variables con alta cardinalidad\n",
    "Identificamos variables categóricas con más de 10 valores únicos.\n"
   ]
  },
  {
   "cell_type": "code",
   "execution_count": 6,
   "id": "d2d06e97-e2de-40c9-b964-266a5a7c3922",
   "metadata": {},
   "outputs": [
    {
     "name": "stdout",
     "output_type": "stream",
     "text": [
      "\u001b[94m📊 Buscando variables con alta cardinalidad...\u001b[0m\n",
      "\n",
      "# 🔢 Variables con alta cardinalidad\n",
      "No se encontraron variables con alta cardinalidad.\n",
      "\u001b[92m✅ Análisis de cardinalidad completado.\u001b[0m\n"
     ]
    }
   ],
   "source": [
    "print_status(\"📊 Buscando variables con alta cardinalidad...\", \"info\")\n",
    "high_card = [col for col in categorical_vars if df_available[col].nunique() > 10]\n",
    "\n",
    "print(\"\\n# 🔢 Variables con alta cardinalidad\")\n",
    "if high_card:\n",
    "    print(\", \".join(high_card))\n",
    "else:\n",
    "    print(\"No se encontraron variables con alta cardinalidad.\")\n",
    "\n",
    "print_status(\"✅ Análisis de cardinalidad completado.\", \"success\")\n"
   ]
  },
  {
   "cell_type": "markdown",
   "id": "02b25954-57a3-4556-9c8a-8b2fc66dccc7",
   "metadata": {},
   "source": [
    "## 🏷️ Columnas constantes e identificadores\n",
    "Mostramos columnas que contienen un único valor (constantes) o que podrían actuar como identificadores.\n"
   ]
  },
  {
   "cell_type": "code",
   "execution_count": 7,
   "id": "dbc7bcfb-8036-4f43-b020-e91e96c33c6f",
   "metadata": {},
   "outputs": [
    {
     "name": "stdout",
     "output_type": "stream",
     "text": [
      "\u001b[94m🔍 Identificando columnas constantes o de ID...\u001b[0m\n",
      "\n",
      "# 🏷️ Columnas constantes e identificadores\n",
      "📌 Columnas constantes: EmployeeCount, Over18, StandardHours\n",
      "🆔 Columnas de ID: EmployeeID\n",
      "\u001b[92m✅ Análisis de columnas constantes y ID completado.\u001b[0m\n"
     ]
    }
   ],
   "source": [
    "print_status(\"🔍 Identificando columnas constantes o de ID...\", \"info\")\n",
    "constant_cols = [col for col in df_available.columns if df_available[col].nunique() == 1]\n",
    "id_cols = [col for col in df_available.columns if \"id\" in col.lower()]\n",
    "\n",
    "print(\"\\n# 🏷️ Columnas constantes e identificadores\")\n",
    "print(\"📌 Columnas constantes:\", \", \".join(constant_cols) if constant_cols else \"Ninguna\")\n",
    "print(\"🆔 Columnas de ID:\", \", \".join(id_cols) if id_cols else \"Ninguna\")\n",
    "\n",
    "print_status(\"✅ Análisis de columnas constantes y ID completado.\", \"success\")\n"
   ]
  },
  {
   "cell_type": "markdown",
   "id": "e81e26d0-631a-4ef8-bfe0-661936dc43c7",
   "metadata": {},
   "source": [
    "## 🧠 Tipo de problema y distribución de clases\n",
    "Determinamos si el problema es de clasificación o regresión, y analizamos si existe desbalanceo en la variable objetivo (`Attrition`).\n"
   ]
  },
  {
   "cell_type": "code",
   "execution_count": 8,
   "id": "c29c08cc-1dd7-49ae-9f83-d614decccccc",
   "metadata": {},
   "outputs": [
    {
     "name": "stdout",
     "output_type": "stream",
     "text": [
      "\u001b[94m📌 Determinando tipo de problema...\u001b[0m\n",
      "\n",
      "# 🤖 Tipo de problema: Clasificación o Regresión\n",
      "📌 Es un problema de **clasificación**.\n",
      "\n",
      "📊 **Distribución de clases:**\n",
      "- No: 83.88%\n",
      "- Yes: 16.12%\n",
      "\n",
      "⚠️ **El conjunto de datos está desbalanceado.**\n",
      "\u001b[92m✅ Determinación del tipo de problema completada.\u001b[0m\n"
     ]
    }
   ],
   "source": [
    "print_status(\"📌 Determinando tipo de problema...\", \"info\")\n",
    "target_variable = \"Attrition\"\n",
    "\n",
    "print(\"\\n# 🤖 Tipo de problema: Clasificación o Regresión\")\n",
    "\n",
    "if target_variable in df_available.columns:\n",
    "    unique_values = df_available[target_variable].nunique()\n",
    "    if unique_values <= 10:\n",
    "        print(\"📌 Es un problema de **clasificación**.\\n\")\n",
    "        class_counts = df_available[target_variable].value_counts(normalize=True)\n",
    "        print(\"📊 **Distribución de clases:**\")\n",
    "        for cls, proportion in class_counts.items():\n",
    "            print(f\"- {cls}: {proportion:.2%}\")\n",
    "\n",
    "        if class_counts.min() < 0.3:\n",
    "            print(\"\\n⚠️ **El conjunto de datos está desbalanceado.**\")\n",
    "    else:\n",
    "        print(\"📌 Es un problema de **regresión**.\")\n",
    "else:\n",
    "    print(\"⚠️ No se encontró la variable objetivo en el dataset.\")\n",
    "\n",
    "print_status(\"✅ Determinación del tipo de problema completada.\", \"success\")\n"
   ]
  },
  {
   "cell_type": "markdown",
   "id": "863d74f1-9dc7-4944-84b8-d3f52377879f",
   "metadata": {},
   "source": [
    "## 🏁 Finalización del análisis exploratorio\n",
    "Se imprime un mensaje indicando que el EDA ha terminado correctamente."
   ]
  },
  {
   "cell_type": "code",
   "execution_count": 9,
   "id": "e2a10ca4-682a-4b7b-9d97-7c083fa52ae3",
   "metadata": {},
   "outputs": [
    {
     "name": "stdout",
     "output_type": "stream",
     "text": [
      "\u001b[92m🏁 Análisis exploratorio finalizado.\u001b[0m\n"
     ]
    }
   ],
   "source": [
    "print_status(\"🏁 Análisis exploratorio finalizado.\", \"success\")\n"
   ]
  },
  {
   "cell_type": "markdown",
   "id": "e95c81b3-fe46-4a7e-877a-ce1b9bc47e31",
   "metadata": {
    "jp-MarkdownHeadingCollapsed": true
   },
   "source": [
    "# Preprocesamiento de datos\n",
    "\n",
    "Ahora, se llevará a cabo el preprocesamiento de los datos. El proceso incluye la carga de datos, manejo de valores faltantes, transformación de características categóricas y numéricas, y la división de los datos en conjuntos de entrenamiento y prueba.\n"
   ]
  },
  {
   "cell_type": "code",
   "execution_count": 10,
   "id": "9527e4f5-a1cf-473c-9c27-28ac17c16fc5",
   "metadata": {},
   "outputs": [
    {
     "name": "stdout",
     "output_type": "stream",
     "text": [
      "🎯 Iniciando preprocesamiento y evaluación de modelos...\n"
     ]
    }
   ],
   "source": [
    "import time\n",
    "import joblib\n",
    "import pandas as pd\n",
    "import numpy as np\n",
    "from sklearn.ensemble import RandomForestClassifier\n",
    "from sklearn.linear_model import LogisticRegression\n",
    "from sklearn.model_selection import train_test_split, cross_val_score\n",
    "from sklearn.metrics import balanced_accuracy_score\n",
    "from sklearn.neighbors import KNeighborsClassifier\n",
    "from sklearn.neural_network import MLPClassifier\n",
    "from sklearn.pipeline import Pipeline\n",
    "from sklearn.svm import SVC\n",
    "from sklearn.tree import DecisionTreeClassifier\n",
    "from sklearn.preprocessing import OneHotEncoder, OrdinalEncoder, StandardScaler\n",
    "from sklearn.compose import ColumnTransformer\n",
    "from sklearn.impute import SimpleImputer\n",
    "\n",
    "# 📂 Paths\n",
    "DATA_PATH = \"../attrition_datasets/train_test/attrition_availabledata_07.csv/attrition_availabledata_07.csv\"\n",
    "PROCESSED_DATA_FILE = \"../results/processed_data.pkl\"\n",
    "print(\"🎯 Iniciando preprocesamiento y evaluación de modelos...\")"
   ]
  },
  {
   "cell_type": "markdown",
   "id": "7cd38d57-32f5-4c19-aeba-1428a69a888f",
   "metadata": {},
   "source": [
    "## 📥 Cargar los datos\n",
    "Aquí cargamos el conjunto de datos y visualizamos su carga. \n"
   ]
  },
  {
   "cell_type": "code",
   "execution_count": 11,
   "id": "c0fff2c2-f8bb-430a-b9cd-8ec8e5350bb5",
   "metadata": {},
   "outputs": [
    {
     "name": "stdout",
     "output_type": "stream",
     "text": [
      "📥 Cargando datos...\n"
     ]
    }
   ],
   "source": [
    "print(\"📥 Cargando datos...\")\n",
    "df = pd.read_csv(DATA_PATH)\n",
    "start_time = time.time()"
   ]
  },
  {
   "cell_type": "markdown",
   "id": "aa8f40d1-54fd-4ec0-96ae-289d9e76b457",
   "metadata": {},
   "source": [
    "## 🔄 Preprocesamiento de los datos\n",
    "Preprocesamos los datos eliminando columnas irrelevantes, definiendo las variables de entrada (X) y la variable objetivo (y), y dividiendo el dataset en entrenamiento y prueba.\n"
   ]
  },
  {
   "cell_type": "code",
   "execution_count": 12,
   "id": "19d051e8-2fb6-463f-8a3b-01b6897e549a",
   "metadata": {},
   "outputs": [
    {
     "name": "stdout",
     "output_type": "stream",
     "text": [
      "🔄 Preprocesando datos...\n",
      "✂️ Dividiendo datos en entrenamiento y prueba...\n"
     ]
    }
   ],
   "source": [
    "print(\"🔄 Preprocesando datos...\")\n",
    "\n",
    "target_variable = \"Attrition\"\n",
    "X = df.drop(\n",
    "    columns=[target_variable, \"EmployeeID\", \"EmployeeCount\", \"Over18\", \"StandardHours\"], errors='ignore')\n",
    "y = df[target_variable].map({\"Yes\": 1, \"No\": 0})\n",
    "\n",
    "print(\"✂️ Dividiendo datos en entrenamiento y prueba...\")\n",
    "X_train, X_test, y_train, y_test = train_test_split(X, y, test_size=1 / 3, random_state=16, stratify=y)\n"
   ]
  },
  {
   "cell_type": "markdown",
   "id": "b52b36e8-450b-42e3-8705-7cbf93bfadbc",
   "metadata": {},
   "source": [
    "## ⚙️ Definir características y transformaciones\n",
    "Definimos las características nominales, ordinales y numéricas, y preparamos los transformadores para manejar estos tipos de datos durante el preprocesamiento.\n"
   ]
  },
  {
   "cell_type": "code",
   "execution_count": 13,
   "id": "f1354fa0-96cb-40c3-afd8-00457ba15f04",
   "metadata": {},
   "outputs": [],
   "source": [
    "nominal_features = [\"Gender\", \"Department\", \"JobRole\", \"MaritalStatus\", \"EducationField\"]\n",
    "ordinal_features = [\"BusinessTravel\"]\n",
    "numeric_features = [col for col in X.columns if col not in nominal_features + ordinal_features]\n",
    "travel = ['Non-Travel', 'Travel_Rarely', 'Travel_Frequently']\n"
   ]
  },
  {
   "cell_type": "markdown",
   "id": "4fd94e01-2f61-433e-b096-182dd48950bd",
   "metadata": {},
   "source": [
    "## 🔄 Transformaciones: Imputación, codificación y escalado\n",
    "Aquí aplicamos imputación, codificación y escalado para las características numéricas y categóricas utilizando transformers de scikit-learn.\n"
   ]
  },
  {
   "cell_type": "code",
   "execution_count": 14,
   "id": "f13fb0a0-54f7-4847-9ae4-65a5c28acb0b",
   "metadata": {},
   "outputs": [],
   "source": [
    "imputer = ColumnTransformer(\n",
    "    transformers=[\n",
    "        ('imputer_num', SimpleImputer(strategy='mean'), numeric_features),\n",
    "        ('imputer_cat', SimpleImputer(strategy='most_frequent'), nominal_features + ordinal_features),\n",
    "    ], remainder='passthrough', verbose_feature_names_out=False\n",
    ").set_output(transform=\"pandas\")\n",
    "\n",
    "encoder = ColumnTransformer(\n",
    "    transformers=[\n",
    "        ('encoder_onehot', OneHotEncoder(drop='first', sparse_output=False), nominal_features),\n",
    "        ('encoder_ordinal', OrdinalEncoder(categories=[travel]), ordinal_features),\n",
    "    ], remainder='passthrough', verbose_feature_names_out=False\n",
    ").set_output(transform=\"pandas\")\n",
    "\n",
    "scaler = ColumnTransformer(\n",
    "    transformers=[('scaler', StandardScaler(), numeric_features)], remainder='passthrough', verbose_feature_names_out=False\n",
    ").set_output(transform=\"pandas\")\n"
   ]
  },
  {
   "cell_type": "markdown",
   "id": "658ab94d-0b0d-446c-8ffa-bdc313451570",
   "metadata": {},
   "source": [
    "## 🚀 Crear y aplicar el pipeline\n",
    "Definimos un pipeline con las transformaciones anteriores y lo aplicamos a los datos de entrenamiento y prueba.\n"
   ]
  },
  {
   "cell_type": "code",
   "execution_count": 15,
   "id": "ea75652c-bd70-4b9c-9b27-218dfbcb4d70",
   "metadata": {},
   "outputs": [
    {
     "data": {
      "text/plain": [
       "['../results/processed_data.pkl']"
      ]
     },
     "execution_count": 15,
     "metadata": {},
     "output_type": "execute_result"
    }
   ],
   "source": [
    "pipeline = Pipeline([\n",
    "    ('imputer', imputer),\n",
    "    ('encoder', encoder),\n",
    "    ('scaler', scaler),\n",
    "])\n",
    "\n",
    "X_train = pipeline.fit_transform(X_train)\n",
    "X_test = pipeline.transform(X_test)\n",
    "\n",
    "X_train = pd.DataFrame(X_train, columns=pipeline.get_feature_names_out())\n",
    "X_test = pd.DataFrame(X_test, columns=pipeline.get_feature_names_out())\n",
    "\n",
    "joblib.dump(pipeline, PROCESSED_DATA_FILE)\n"
   ]
  },
  {
   "cell_type": "markdown",
   "id": "7b6c2cd1-8a22-412f-ae16-8d2a651198ad",
   "metadata": {},
   "source": [
    "## 💾 Guardar los datos preprocesados\n",
    "Guardamos los datos transformados en archivos CSV para su posterior uso.\n"
   ]
  },
  {
   "cell_type": "code",
   "execution_count": 16,
   "id": "73016fef-03c5-440f-bdd2-78743a097d75",
   "metadata": {},
   "outputs": [
    {
     "name": "stdout",
     "output_type": "stream",
     "text": [
      "✅ Preprocesamiento completado.\n"
     ]
    }
   ],
   "source": [
    "# Guardamos los datos preprocesados\n",
    "X_train.to_csv(\"../results/X_train.csv\", index=False)\n",
    "X_test.to_csv(\"../results/X_test.csv\", index=False)\n",
    "y_train.to_csv(\"../results/y_train.csv\", index=False)\n",
    "y_test.to_csv(\"../results/y_test.csv\", index=False)\n",
    "\n",
    "print(\"✅ Preprocesamiento completado.\")\n"
   ]
  },
  {
   "cell_type": "markdown",
   "id": "e4ef25ff-7b8b-4598-a7cf-ecbe15c24b58",
   "metadata": {},
   "source": [
    "## 🏆 Evaluación de los modelos con validación cruzada\n",
    "En este paso, definimos una serie de modelos para posteriormente evaluarlos mediante validación cruzada."
   ]
  },
  {
   "cell_type": "code",
   "execution_count": 17,
   "id": "108e0fdc-18b9-4987-9c1a-4847d668fe20",
   "metadata": {},
   "outputs": [
    {
     "name": "stdout",
     "output_type": "stream",
     "text": [
      "📊 Evaluando modelos con validación cruzada...\n"
     ]
    }
   ],
   "source": [
    "print(\"📊 Evaluando modelos con validación cruzada...\")\n",
    "\n",
    "models = {\n",
    "    \"Decision Tree\": DecisionTreeClassifier(random_state=16),\n",
    "    \"K-Neighbors\": KNeighborsClassifier(),\n",
    "    \"Logistic Regression\": LogisticRegression(max_iter=20000, solver='lbfgs', random_state=16),\n",
    "    \"Random Forest\": RandomForestClassifier(random_state=16, n_estimators=100),\n",
    "    \"SVM\": SVC(random_state=16),\n",
    "    \"Neural Network\": MLPClassifier(random_state=16, max_iter=500)\n",
    "}\n"
   ]
  },
  {
   "cell_type": "markdown",
   "id": "0c88d2f0-b5ba-402f-9dab-0e0da8a84f45",
   "metadata": {},
   "source": [
    "## 🏆 Evaluación de los modelos con validación cruzada 2\n",
    "Realizamos la validacion cruzada y calculamos su 'Balanced Accuracy'."
   ]
  },
  {
   "cell_type": "code",
   "execution_count": 18,
   "id": "17e6d3a3-32b1-49da-b1f5-d7ed5e3f5df2",
   "metadata": {},
   "outputs": [
    {
     "name": "stdout",
     "output_type": "stream",
     "text": [
      "🚀 Evaluando Decision Tree...\n",
      "🚀 Evaluando K-Neighbors...\n",
      "🚀 Evaluando Logistic Regression...\n",
      "🚀 Evaluando Random Forest...\n",
      "🚀 Evaluando SVM...\n",
      "🚀 Evaluando Neural Network...\n",
      "# 📊 Resultados de Evaluación Interna\n",
      "Neural Network: Balanced Accuracy = 0.8318 ± 0.0292\n",
      "Random Forest: Balanced Accuracy = 0.8072 ± 0.0265\n",
      "Decision Tree: Balanced Accuracy = 0.7877 ± 0.0533\n",
      "SVM: Balanced Accuracy = 0.6559 ± 0.0242\n",
      "Logistic Regression: Balanced Accuracy = 0.6214 ± 0.0420\n",
      "K-Neighbors: Balanced Accuracy = 0.5961 ± 0.0157\n"
     ]
    }
   ],
   "source": [
    "model_scores = []\n",
    "for name, model in models.items():\n",
    "    print(f\"🚀 Evaluando {name}...\")\n",
    "    scores = cross_val_score(model, X_train, y_train, cv=5, scoring='balanced_accuracy')\n",
    "    mean_score, std_score = scores.mean(), scores.std()\n",
    "    model_scores.append((name, mean_score, std_score))\n",
    "\n",
    "model_scores.sort(key=lambda x: x[1], reverse=True)\n",
    "\n",
    "print(\"# 📊 Resultados de Evaluación Interna\")\n",
    "for name, mean_score, std_score in model_scores:\n",
    "    print(f\"{name}: Balanced Accuracy = {mean_score:.4f} ± {std_score:.4f}\")"
   ]
  },
  {
   "cell_type": "markdown",
   "id": "e7b4efb6-e671-4222-b78d-21bf349324c7",
   "metadata": {},
   "source": [
    "## ⏱️ Medir el tiempo de ejecución\n",
    "Aquí calculamos el tiempo total del proceso de preprocesamiento y evaluación de modelos para obtener una idea del rendimiento.\n"
   ]
  },
  {
   "cell_type": "code",
   "execution_count": 19,
   "id": "cbbab793-01c7-4686-a8c8-a310f0b5617c",
   "metadata": {},
   "outputs": [
    {
     "name": "stdout",
     "output_type": "stream",
     "text": [
      "🏁 Proceso finalizado en 17.01 segundos.\n"
     ]
    }
   ],
   "source": [
    "elapsed_time = time.time() - start_time\n",
    "print(f\"🏁 Proceso finalizado en {elapsed_time:.2f} segundos.\")\n"
   ]
  },
  {
   "cell_type": "markdown",
   "id": "060c8c29-88bb-47b7-bccd-5ce8f318008d",
   "metadata": {
    "jp-MarkdownHeadingCollapsed": true
   },
   "source": [
    "# Metodos escalado\n",
    "\n",
    "En este proceso, evaluaremos el impacto de diversas combinaciones de métodos de escalado e imputación sobre el rendimiento de un modelo K-Nearest Neighbors (KNN) utilizando validación cruzada.\n",
    "\n"
   ]
  },
  {
   "cell_type": "code",
   "execution_count": 20,
   "id": "8166066a-ee03-42c9-a56e-44e2297428f0",
   "metadata": {},
   "outputs": [],
   "source": [
    "import pandas as pd\n",
    "import numpy as np\n",
    "import time\n",
    "from sklearn.impute import SimpleImputer\n",
    "from sklearn.preprocessing import MinMaxScaler, StandardScaler, RobustScaler\n",
    "from sklearn.model_selection import cross_val_score\n",
    "from sklearn.neighbors import KNeighborsClassifier\n",
    "from sklearn.pipeline import Pipeline\n",
    "from itertools import product\n"
   ]
  },
  {
   "cell_type": "markdown",
   "id": "b149f5ec-0353-4525-ac77-a43d03d0e69e",
   "metadata": {},
   "source": [
    "## 📥 Cargar los datos de entrenamiento\n",
    "\n",
    "Cargamos los archivos `X_train` y `y_train` desde los archivos CSV para obtener las características y las etiquetas del conjunto de entrenamiento.\n"
   ]
  },
  {
   "cell_type": "code",
   "execution_count": 21,
   "id": "d7abf35c-cdd2-476d-913c-bc5804227b80",
   "metadata": {},
   "outputs": [
    {
     "name": "stdout",
     "output_type": "stream",
     "text": [
      "✅ Datos cargados: 1960 muestras, 39 características.\n"
     ]
    }
   ],
   "source": [
    "# 📥 Cargar los datos de entrenamiento\n",
    "X_TRAIN_PATH = \"../results/X_train.csv\"\n",
    "Y_TRAIN_PATH = \"../results/y_train.csv\"\n",
    "\n",
    "X_train = pd.read_csv(X_TRAIN_PATH)\n",
    "y_train = pd.read_csv(Y_TRAIN_PATH).values.ravel()\n",
    "\n",
    "print(f\"✅ Datos cargados: {X_train.shape[0]} muestras, {X_train.shape[1]} características.\")\n"
   ]
  },
  {
   "cell_type": "markdown",
   "id": "5bb3a5f1-dde7-4343-9d36-935a580f25d5",
   "metadata": {},
   "source": [
    "## 🔧 Definir métodos de escalado\n",
    "\n",
    "Definimos tres métodos de escalado de características:  \n",
    "- **MinMaxScaler**: Escala los datos en el rango [0, 1].  \n",
    "- **StandardScaler**: Escala los datos para que tengan media 0 y desviación estándar 1.  \n",
    "- **RobustScaler**: Utiliza estadísticas robustas, menos sensible a los valores atípicos.\n"
   ]
  },
  {
   "cell_type": "code",
   "execution_count": 22,
   "id": "60c0f60a-872e-4d3d-9d9c-84dedabfea5e",
   "metadata": {},
   "outputs": [],
   "source": [
    "# 🔧 Definir métodos de escalado\n",
    "scalers = {\n",
    "    \"MinMax\": MinMaxScaler(),\n",
    "    \"Standard\": StandardScaler(),\n",
    "    \"Robust\": RobustScaler()\n",
    "}\n"
   ]
  },
  {
   "cell_type": "markdown",
   "id": "8215cc9f-509c-4548-b133-93078ca6d472",
   "metadata": {},
   "source": [
    "## 🔧 Definir métodos de imputación\n",
    "\n",
    "Definimos dos métodos de imputación para manejar valores faltantes en los datos:  \n",
    "- **Mean**: Imputa los valores faltantes utilizando la media de la columna.  \n",
    "- **Median**: Imputa los valores faltantes utilizando la mediana de la columna.\n"
   ]
  },
  {
   "cell_type": "code",
   "execution_count": 23,
   "id": "1e4be727-36ce-43ad-ac01-3ba3915ec792",
   "metadata": {},
   "outputs": [],
   "source": [
    "# 🔧 Definir métodos de imputación\n",
    "imputers = {\n",
    "    \"Mean\": SimpleImputer(strategy='mean'),\n",
    "    \"Median\": SimpleImputer(strategy='median')\n",
    "}\n"
   ]
  },
  {
   "cell_type": "markdown",
   "id": "c10480f7-a4cc-4abe-9e0a-ae3f76c1b86d",
   "metadata": {},
   "source": [
    "## 🔍 Evaluar combinaciones de escalado e imputación\n",
    "\n",
    "Creamos un pipeline que combina un imputador, un escalador y el clasificador K-Nearest Neighbors (KNN). Luego, evaluamos todas las combinaciones posibles de escalado e imputación utilizando validación cruzada para medir su rendimiento con `balanced_accuracy`.\n"
   ]
  },
  {
   "cell_type": "code",
   "execution_count": 24,
   "id": "9f8c9383-3885-49a0-bc08-a634c80da045",
   "metadata": {},
   "outputs": [
    {
     "name": "stdout",
     "output_type": "stream",
     "text": [
      "⚙️ Probando: Escalado=MinMax, Imputación=Mean...\n",
      "✅ Resultado: Balanced Accuracy=0.6020, Tiempo=0.24s\n",
      "⚙️ Probando: Escalado=MinMax, Imputación=Median...\n",
      "✅ Resultado: Balanced Accuracy=0.6020, Tiempo=0.27s\n",
      "⚙️ Probando: Escalado=Standard, Imputación=Mean...\n",
      "✅ Resultado: Balanced Accuracy=0.5923, Tiempo=0.24s\n",
      "⚙️ Probando: Escalado=Standard, Imputación=Median...\n",
      "✅ Resultado: Balanced Accuracy=0.5923, Tiempo=0.25s\n",
      "⚙️ Probando: Escalado=Robust, Imputación=Mean...\n",
      "✅ Resultado: Balanced Accuracy=0.6083, Tiempo=0.29s\n",
      "⚙️ Probando: Escalado=Robust, Imputación=Median...\n",
      "✅ Resultado: Balanced Accuracy=0.6083, Tiempo=0.28s\n"
     ]
    }
   ],
   "source": [
    "# 🔍 Evaluar combinaciones de escalado e imputación\n",
    "results = []\n",
    "\n",
    "for (scaler_name, scaler), (imputer_name, imputer) in product(scalers.items(), imputers.items()):\n",
    "    print(f\"⚙️ Probando: Escalado={scaler_name}, Imputación={imputer_name}...\")\n",
    "\n",
    "    pipeline = Pipeline([\n",
    "        ('imputer', imputer),\n",
    "        ('scaler', scaler),\n",
    "        ('knn', KNeighborsClassifier())\n",
    "    ])\n",
    "\n",
    "    start_time = time.time()\n",
    "    scores = cross_val_score(pipeline, X_train, y_train, cv=5, scoring='balanced_accuracy')\n",
    "    mean_score = scores.mean()\n",
    "    elapsed_time = time.time() - start_time\n",
    "\n",
    "    results.append((scaler_name, imputer_name, mean_score, elapsed_time))\n",
    "    print(f\"✅ Resultado: Balanced Accuracy={mean_score:.4f}, Tiempo={elapsed_time:.2f}s\")\n"
   ]
  },
  {
   "cell_type": "markdown",
   "id": "435abebb-d008-440e-939f-8d24dff351dc",
   "metadata": {},
   "source": [
    "## 📄 Ordenar y mostrar resultados\n",
    "\n",
    "Ordenamos las combinaciones de escalado e imputación en función de la **accuracy balanceada** y mostramos un resumen con los resultados para cada combinación junto con el tiempo de ejecución.\n"
   ]
  },
  {
   "cell_type": "code",
   "execution_count": 25,
   "id": "48e6529f-bc68-43da-b868-c4ebe11c5a90",
   "metadata": {},
   "outputs": [
    {
     "name": "stdout",
     "output_type": "stream",
     "text": [
      "📄 Resumen de Resultados:\n",
      "🔹 Escalado: Robust, Imputación: Mean, Balanced Accuracy: 0.6083, Tiempo: 0.29s\n",
      "🔹 Escalado: Robust, Imputación: Median, Balanced Accuracy: 0.6083, Tiempo: 0.28s\n",
      "🔹 Escalado: MinMax, Imputación: Mean, Balanced Accuracy: 0.6020, Tiempo: 0.24s\n",
      "🔹 Escalado: MinMax, Imputación: Median, Balanced Accuracy: 0.6020, Tiempo: 0.27s\n",
      "🔹 Escalado: Standard, Imputación: Mean, Balanced Accuracy: 0.5923, Tiempo: 0.24s\n",
      "🔹 Escalado: Standard, Imputación: Median, Balanced Accuracy: 0.5923, Tiempo: 0.25s\n",
      "🏁 Proceso finalizado.\n"
     ]
    }
   ],
   "source": [
    "# 📄 Ordenar y mostrar resultados\n",
    "sorted_results = sorted(results, key=lambda x: x[2], reverse=True)\n",
    "\n",
    "print(\"📄 Resumen de Resultados:\")\n",
    "for scaler, imputer, score, elapsed_time in sorted_results:\n",
    "    print(f\"🔹 Escalado: {scaler}, Imputación: {imputer}, Balanced Accuracy: {score:.4f}, Tiempo: {elapsed_time:.2f}s\")\n",
    "print(\"🏁 Proceso finalizado.\")\n"
   ]
  },
  {
   "cell_type": "markdown",
   "id": "a3cbd768-3062-45eb-bc1e-484e8d96ac2c",
   "metadata": {
    "jp-MarkdownHeadingCollapsed": true
   },
   "source": [
    "# Metodos basicos\n",
    "\n",
    "Este archivo se enfoca en la evaluación y optimización de dos modelos clásicos de clasificación: K-Nearest Neighbors (KNN) y Árbol de Decisión. Inicialmente, se evalúan con hiperparámetros por defecto y se mide su rendimiento utilizando Balanced Accuracy. Posteriormente, se optimizan mediante búsqueda en cuadrícula (GridSearchCV) para encontrar los mejores hiperparámetros. Los modelos optimizados se guardan para su uso posterior. Además, se realizan visualizaciones para analizar el impacto de los hiperparámetros sobre el rendimiento y se genera la matriz de confusión para cada modelo optimizado, facilitando una interpretación más clara de los resultados.\n",
    "\n"
   ]
  },
  {
   "cell_type": "code",
   "execution_count": 26,
   "id": "931953de-8751-4def-a4a7-7b885f29baf4",
   "metadata": {},
   "outputs": [],
   "source": [
    "import time\n",
    "import pandas as pd\n",
    "import numpy as np\n",
    "import matplotlib.pyplot as plt\n",
    "import seaborn as sns\n",
    "import joblib\n",
    "import os\n",
    "from sklearn.model_selection import cross_val_score, GridSearchCV\n",
    "from sklearn.metrics import balanced_accuracy_score, confusion_matrix\n",
    "from sklearn.neighbors import KNeighborsClassifier\n",
    "from sklearn.tree import DecisionTreeClassifier\n"
   ]
  },
  {
   "cell_type": "markdown",
   "id": "09b5b35a-e700-462f-bb7c-c8ce470a04f7",
   "metadata": {},
   "source": [
    "## 📊 Cargar los datos de entrenamiento y prueba\n",
    "\n",
    "Cargamos los datos de entrenamiento y prueba desde archivos CSV. Los datos contienen las características (X) y las etiquetas (y) tanto para el conjunto de entrenamiento como para el de prueba.\n"
   ]
  },
  {
   "cell_type": "code",
   "execution_count": 27,
   "id": "950baac6-2051-429d-a499-b47b23c12bca",
   "metadata": {},
   "outputs": [
    {
     "name": "stdout",
     "output_type": "stream",
     "text": [
      "\n",
      "📥 Cargando datos de entrenamiento y prueba...\n",
      "✅ Datos cargados correctamente.\n"
     ]
    }
   ],
   "source": [
    "print(\"\\n📥 Cargando datos de entrenamiento y prueba...\")\n",
    "FILE_PATH_XTRAIN = \"../results/X_train.csv\"\n",
    "FILE_PATH_YTRAIN = \"../results/y_train.csv\"\n",
    "FILE_PATH_XTEST = \"../results/X_test.csv\"\n",
    "FILE_PATH_YTEST = \"../results/y_test.csv\"\n",
    "\n",
    "X_train = pd.read_csv(FILE_PATH_XTRAIN)\n",
    "y_train = pd.read_csv(FILE_PATH_YTRAIN).values.ravel()\n",
    "X_test = pd.read_csv(FILE_PATH_XTEST)\n",
    "y_test = pd.read_csv(FILE_PATH_YTEST).values.ravel()\n",
    "\n",
    "print(\"✅ Datos cargados correctamente.\")"
   ]
  },
  {
   "cell_type": "markdown",
   "id": "8dbe56b7-2150-4fae-a934-71f06f2e62b3",
   "metadata": {},
   "source": [
    "## 🔹 Evaluación inicial de los modelos\n",
    "\n",
    "Aquí evaluamos los modelos con sus hiperparámetros por defecto: K-Nearest Neighbors (KNN) y Árbol de Decisión. Calculamos el tiempo de entrenamiento y la precisión utilizando el método \"Balanced Accuracy\".\n"
   ]
  },
  {
   "cell_type": "code",
   "execution_count": 28,
   "id": "87fe851a-3976-4fb2-a7f9-d194dbe1ddc3",
   "metadata": {},
   "outputs": [
    {
     "name": "stdout",
     "output_type": "stream",
     "text": [
      "\n",
      "🔹 Evaluando modelos con hiperparámetros por defecto...\n",
      "✅ K-Nearest Neighbors evaluado - Tiempo de entrenamiento: 0.0044s - Balanced Accuracy: 0.6153\n",
      "✅ Decision Tree evaluado - Tiempo de entrenamiento: 0.0300s - Balanced Accuracy: 0.8375\n"
     ]
    }
   ],
   "source": [
    "# 📌 Evaluación inicial con hiperparámetros por defecto\n",
    "models = {\n",
    "    \"K-Nearest Neighbors\": KNeighborsClassifier(),\n",
    "    \"Decision Tree\": DecisionTreeClassifier()\n",
    "}\n",
    "\n",
    "print(\"\\n🔹 Evaluando modelos con hiperparámetros por defecto...\")\n",
    "\n",
    "for name, model in models.items():\n",
    "    start_time = time.time()\n",
    "    model.fit(X_train, y_train)\n",
    "    training_time = time.time() - start_time\n",
    "\n",
    "    y_pred = model.predict(X_test)\n",
    "    balanced_acc = balanced_accuracy_score(y_test, y_pred)\n",
    "\n",
    "    print(\n",
    "        f\"✅ {name} evaluado - Tiempo de entrenamiento: {training_time:.4f}s - Balanced Accuracy: {balanced_acc:.4f}\")\n"
   ]
  },
  {
   "cell_type": "markdown",
   "id": "fbd7b93f-d26b-4053-86ce-422746a2a8a8",
   "metadata": {},
   "source": [
    "## 🔍 Optimización de Hiperparámetros con GridSearchCV\n",
    "\n",
    "Optimizamos los hiperparámetros para los modelos KNN y Árbol de Decisión usando `GridSearchCV` con validación cruzada.\n"
   ]
  },
  {
   "cell_type": "code",
   "execution_count": 29,
   "id": "4983031f-f4cc-4677-81ee-97236674c306",
   "metadata": {},
   "outputs": [
    {
     "name": "stdout",
     "output_type": "stream",
     "text": [
      "✅ KNN optimizado: {'n_neighbors': 1, 'weights': 'uniform'} - Tiempo: 3.8456s\n",
      "✅ Árbol de Decisión optimizado: {'max_depth': 19, 'min_samples_split': 2} - Tiempo: 0.7054s\n"
     ]
    }
   ],
   "source": [
    "# 📌 Optimización de hiperparámetros con GridSearchCV\n",
    "param_grid_knn = {\"n_neighbors\": range(1, 21),\n",
    "                  \"weights\": [\"uniform\", \"distance\"]}\n",
    "param_grid_tree = {\"max_depth\": range(1, 21),\n",
    "                   \"min_samples_split\": [2, 5, 10]}\n",
    "\n",
    "best_models = {}\n",
    "\n",
    "# Optimización para KNN\n",
    "start_time = time.time()\n",
    "knn_search = GridSearchCV(KNeighborsClassifier(), param_grid_knn, cv=5,\n",
    "                          scoring=\"balanced_accuracy\", n_jobs=-1)\n",
    "knn_search.fit(X_train, y_train)\n",
    "knn_time = time.time() - start_time\n",
    "best_models[\"KNN\"] = knn_search.best_estimator_\n",
    "\n",
    "# Optimización para Árbol de Decisión\n",
    "start_time = time.time()\n",
    "tree_search = GridSearchCV(DecisionTreeClassifier(), param_grid_tree, cv=5,\n",
    "                           scoring=\"balanced_accuracy\", n_jobs=-1)\n",
    "tree_search.fit(X_train, y_train)\n",
    "tree_time = time.time() - start_time\n",
    "best_models[\"Decision Tree\"] = tree_search.best_estimator_\n",
    "\n",
    "print(f\"✅ KNN optimizado: {knn_search.best_params_} - Tiempo: {knn_time:.4f}s\")\n",
    "print(f\"✅ Árbol de Decisión optimizado: {tree_search.best_params_} - Tiempo: {tree_time:.4f}s\")\n",
    "\n"
   ]
  },
  {
   "cell_type": "markdown",
   "id": "829ec8d5-1d3e-4dd4-b8c2-e5b20142e37f",
   "metadata": {},
   "source": [
    "## 💾 Guardar los Modelos Optimizado\n",
    "\n",
    "Guardamos los modelos optimizados obtenidos a través de GridSearchCV para su uso posterior.\n",
    "\n"
   ]
  },
  {
   "cell_type": "code",
   "execution_count": 30,
   "id": "22db2b8f-8cab-4145-9702-ed24845106f4",
   "metadata": {},
   "outputs": [
    {
     "name": "stdout",
     "output_type": "stream",
     "text": [
      "\n",
      "💾 Guardando modelos optimizados...\n",
      "✅ Modelo KNN guardado en ../results/KNN.pkl\n",
      "✅ Modelo Decision Tree guardado en ../results/Decision_Tree.pkl\n"
     ]
    }
   ],
   "source": [
    "\n",
    "print(\"\\n💾 Guardando modelos optimizados...\")\n",
    "os.makedirs(\"../results/\", exist_ok=True)  # Crear la carpeta si no existe\n",
    "\n",
    "for name, model in best_models.items():\n",
    "    filename = os.path.join(\"../results/\", f\"{name.replace(' ', '_')}.pkl\")\n",
    "    joblib.dump(model, filename)\n",
    "    print(f\"✅ Modelo {name} guardado en {filename}\")"
   ]
  },
  {
   "cell_type": "markdown",
   "id": "d3f09a1c-3205-4c00-8e9b-474ddb79b4b8",
   "metadata": {},
   "source": [
    "## 📊 Evaluación Final con Modelos Optimizado\n",
    "\n",
    "Evaluamos el rendimiento de los modelos optimizados en el conjunto de test.\n"
   ]
  },
  {
   "cell_type": "code",
   "execution_count": 31,
   "id": "6a50d293-ade4-461b-b4ae-55e2b8dc22dc",
   "metadata": {},
   "outputs": [
    {
     "name": "stdout",
     "output_type": "stream",
     "text": [
      "\n",
      "📊 Evaluando modelos optimizados...\n",
      "✅ KNN optimizado - Tiempo de entrenamiento: 0.0030s - Balanced Accuracy: 0.8633\n",
      "✅ Decision Tree optimizado - Tiempo de entrenamiento: 0.0220s - Balanced Accuracy: 0.8425\n"
     ]
    }
   ],
   "source": [
    "# 📌 Evaluación final con modelos optimizados\n",
    "print(\"\\n📊 Evaluando modelos optimizados...\")\n",
    "\n",
    "for name, model in best_models.items():\n",
    "    start_time = time.time()\n",
    "    model.fit(X_train, y_train)\n",
    "    training_time = time.time() - start_time\n",
    "\n",
    "    y_pred = model.predict(X_test)\n",
    "    balanced_acc = balanced_accuracy_score(y_test, y_pred)\n",
    "\n",
    "    print(\n",
    "        f\"✅ {name} optimizado - Tiempo de entrenamiento: {training_time:.4f}s - Balanced Accuracy: {balanced_acc:.4f}\")\n"
   ]
  },
  {
   "cell_type": "markdown",
   "id": "51751a1b-83d9-46e7-8f03-e5ec7410d365",
   "metadata": {},
   "source": [
    "## 📈 Visualización del Impacto de Hiperparámetros\n",
    "\n",
    "Generamos gráficos para visualizar cómo el cambio de hiperparámetros afecta al rendimiento de los modelos KNN y Árbol de Decisión.\n"
   ]
  },
  {
   "cell_type": "code",
   "execution_count": 32,
   "id": "69a4aa19-cffe-46a4-9588-5ca455deee6f",
   "metadata": {},
   "outputs": [
    {
     "data": {
      "image/png": "[encoded data removed]",
      "text/plain": [
       "<Figure size 1200x500 with 2 Axes>"
      ]
     },
     "metadata": {},
     "output_type": "display_data"
    }
   ],
   "source": [
    "# 📌 Visualización del impacto de hiperparámetros\n",
    "plt.figure(figsize=(12, 5))\n",
    "\n",
    "# KNN: Número de vecinos\n",
    "knn_neighbors = list(param_grid_knn[\"n_neighbors\"])\n",
    "knn_scores = [\n",
    "    cross_val_score(KNeighborsClassifier(n_neighbors=n), X_train, y_train,\n",
    "                    cv=5, scoring='balanced_accuracy').mean() for n in\n",
    "    knn_neighbors]\n",
    "\n",
    "plt.subplot(1, 2, 1)\n",
    "plt.plot(knn_neighbors, knn_scores, marker='o')\n",
    "plt.xlabel(\"Número de vecinos (K)\")\n",
    "plt.ylabel(\"Balanced Accuracy\")\n",
    "plt.title(\"Efecto del número de vecinos en KNN\")\n",
    "\n",
    "# Árboles: Profundidad máxima\n",
    "tree_depths = list(param_grid_tree[\"max_depth\"])\n",
    "tree_scores = [\n",
    "    cross_val_score(DecisionTreeClassifier(max_depth=d), X_train, y_train,\n",
    "                    cv=5, scoring='balanced_accuracy').mean() for d in\n",
    "    tree_depths]\n",
    "\n",
    "plt.subplot(1, 2, 2)\n",
    "plt.plot(tree_depths, tree_scores, marker='o')\n",
    "plt.xlabel(\"Profundidad máxima del árbol\")\n",
    "plt.ylabel(\"Balanced Accuracy\")\n",
    "plt.title(\"Efecto de max_depth en Árboles de Decisión\")\n",
    "\n",
    "plt.tight_layout()\n",
    "plt.show()\n"
   ]
  },
  {
   "cell_type": "markdown",
   "id": "5f634d8d-c301-4917-b35b-5ec6cc824adb",
   "metadata": {},
   "source": [
    "## 🔑 Matriz de Confusión\n",
    "\n",
    "Generamos las matrices de confusión para cada uno de los modelos optimizados para visualizar sus resultados en términos de predicciones correctas e incorrectas.\n"
   ]
  },
  {
   "cell_type": "code",
   "execution_count": 33,
   "id": "029f4466-ca54-48e6-bd9e-3b72a4dc6411",
   "metadata": {},
   "outputs": [
    {
     "data": {
      "image/png": "[encoded data removed]",
      "text/plain": [
       "<Figure size 500x400 with 2 Axes>"
      ]
     },
     "metadata": {},
     "output_type": "display_data"
    },
    {
     "data": {
      "image/png": "[encoded data removed]",
      "text/plain": [
       "<Figure size 500x400 with 2 Axes>"
      ]
     },
     "metadata": {},
     "output_type": "display_data"
    },
    {
     "name": "stdout",
     "output_type": "stream",
     "text": [
      "\n",
      "✅ Evaluación finalizada.\n"
     ]
    }
   ],
   "source": [
    "\n",
    "for name, model in best_models.items():\n",
    "    y_pred = model.predict(X_test)\n",
    "    cm = confusion_matrix(y_test, y_pred)\n",
    "    \n",
    "    plt.figure(figsize=(5, 4))\n",
    "    sns.heatmap(cm, annot=True, fmt='d', cmap='Blues',\n",
    "                xticklabels=[\"No\", \"Yes\"], yticklabels=[\"No\", \"Yes\"])\n",
    "    plt.title(f\"Matriz de Confusión - {name}\")\n",
    "    plt.xlabel(\"Predicho\")\n",
    "    plt.ylabel(\"Real\")\n",
    "    plt.show()\n",
    "\n",
    "print(\"\\n✅ Evaluación finalizada.\")"
   ]
  },
  {
   "cell_type": "markdown",
   "id": "1e29ea8c-f56a-4d25-819b-1cb0a99ad489",
   "metadata": {
    "jp-MarkdownHeadingCollapsed": true
   },
   "source": [
    "# Metodos avanzados\n",
    "\n",
    "Este archivo explora el uso de técnicas avanzadas para mejorar el rendimiento de los modelos de clasificación. Se aplican métodos como el balanceo de clases utilizando SMOTE, la optimización de hiperparámetros a través de búsqueda en cuadrícula (GridSearchCV), y la comparación de modelos de clasificación como Regresión Logística y SVM. El objetivo es mejorar la precisión y otros indicadores clave como la sensibilidad y especificidad en un contexto de clases desbalanceadas. Finalmente, se guardan los modelos optimizados para su uso posterior.\n",
    "\n"
   ]
  },
  {
   "cell_type": "code",
   "execution_count": 34,
   "id": "ff58ad89-df44-42cf-95bc-08ce23c3893e",
   "metadata": {},
   "outputs": [],
   "source": [
    "import pandas as pd\n",
    "import joblib\n",
    "import time\n",
    "import numpy as np\n",
    "import matplotlib.pyplot as plt\n",
    "import seaborn as sns\n",
    "import os\n",
    "from sklearn.linear_model import LogisticRegression\n",
    "from sklearn.svm import SVC\n",
    "from sklearn.metrics import balanced_accuracy_score, classification_report, \\\n",
    "    confusion_matrix\n",
    "from sklearn.model_selection import GridSearchCV\n",
    "from imblearn.over_sampling import SMOTE\n"
   ]
  },
  {
   "cell_type": "markdown",
   "id": "f6471b81-f8f7-432a-ab1f-6f51439caae3",
   "metadata": {},
   "source": [
    "## 📥 Cargar los Datos\n",
    "\n",
    "Aquí cargamos los conjuntos de datos de entrenamiento y prueba (`X_train`, `y_train`, `X_test`, `y_test`) desde archivos CSV.\n"
   ]
  },
  {
   "cell_type": "code",
   "execution_count": 35,
   "id": "f0463b71-ec3f-4ae4-ae3b-8148c3c8a2c9",
   "metadata": {},
   "outputs": [],
   "source": [
    "# Cargar los datos desde archivos\n",
    "X_train = pd.read_csv(\"../results/X_train.csv\")\n",
    "y_train = pd.read_csv(\"../results/y_train.csv\").values.ravel()\n",
    "X_test = pd.read_csv(\"../results/X_test.csv\")\n",
    "y_test = pd.read_csv(\"../results/y_test.csv\").values.ravel()\n"
   ]
  },
  {
   "cell_type": "markdown",
   "id": "1567d2df-e8cf-4963-a662-ee2d22eb9f3f",
   "metadata": {},
   "source": [
    "## ⚖️ Aplicar SMOTE para Balanceo de Clases\n",
    "\n",
    "En esta celda aplicamos **SMOTE** (Synthetic Minority Over-sampling Technique) para balancear las clases en el conjunto de entrenamiento. Esto ayuda a evitar el desbalance de clases y mejorar el desempeño del modelo.\n",
    "\n",
    "Smote(Elección abierta)\n",
    "El uso de **SMOTE (Synthetic Minority Over-sampling Technique)** permite **balancear clases desbalanceadas** generando ejemplos sintéticos de la clase minoritaria. Esto ayuda a que el modelo no se sesgue hacia la clase mayoritaria, mejorando así métricas como la **sensibilidad** y la **balanced accuracy**, especialmente en problemas con desbalance de clases como el de *Attrition*.\n"
   ]
  },
  {
   "cell_type": "code",
   "execution_count": 36,
   "id": "6d8e01da-7d05-4373-bbe4-049650d8ae15",
   "metadata": {},
   "outputs": [
    {
     "name": "stdout",
     "output_type": "stream",
     "text": [
      "Aplicando SMOTE para balancear las clases en el conjunto de entrenamiento...\n",
      "Nueva distribución de clases tras SMOTE:\n",
      " 0    1644\n",
      "1    1644\n",
      "Name: count, dtype: int64\n"
     ]
    }
   ],
   "source": [
    "\n",
    "# Aplicamos SMOTE para equilibrar las clases\n",
    "print(\"Aplicando SMOTE para balancear las clases en el conjunto de entrenamiento...\")\n",
    "smote = SMOTE(random_state=16)\n",
    "X_train, y_train = smote.fit_resample(X_train, y_train)\n",
    "print(\"Nueva distribución de clases tras SMOTE:\\n\", pd.Series(y_train).value_counts())\n"
   ]
  },
  {
   "cell_type": "markdown",
   "id": "21b8f3cf-d582-449c-a6eb-b9b70f048c7a",
   "metadata": {},
   "source": [
    "## ⚙️ Entrenar Modelos Base 1\n",
    "\n",
    "Creamos varios modelos para entrenarlos posteriormente.\n"
   ]
  },
  {
   "cell_type": "code",
   "execution_count": 37,
   "id": "87d91be8-571e-4804-8a49-c87a838916b9",
   "metadata": {},
   "outputs": [],
   "source": [
    "modelos = {\n",
    "    \"Regresión Logística L1\": LogisticRegression(penalty='l1',\n",
    "                                                 solver='liblinear',\n",
    "                                                 max_iter=1000,\n",
    "                                                 class_weight='balanced',\n",
    "                                                 random_state=16),\n",
    "    \"Regresión Logística L2\": LogisticRegression(penalty='l2', solver='lbfgs',\n",
    "                                                 max_iter=1000,\n",
    "                                                 class_weight='balanced',\n",
    "                                                 random_state=16),\n",
    "    \"SVM RBF\": SVC(kernel='rbf', class_weight='balanced', random_state=16),\n",
    "    \"SVM Lineal\": SVC(kernel='linear', class_weight='balanced',\n",
    "                      random_state=16)\n",
    "}\n",
    "\n",
    "resultados = {}\n"
   ]
  },
  {
   "cell_type": "markdown",
   "id": "4d4e5316-18b7-47be-b73c-429c274fea8b",
   "metadata": {},
   "source": [
    "## ⚙️ Entrenar Modelos Base 2\n",
    "\n",
    "Aquí entrenamos varios modelos base sin optimización de hiperparámetros. Estos modelos incluyen **Regresión Logística** (con penalización L1 y L2) y **Máquinas de Soporte Vectorial** (con kernels lineales y RBF).\n",
    "\n",
    "\n",
    "L2(Elección abierta)\n",
    "\n",
    "La regularización **L2** penaliza los coeficientes grandes en los modelos, ayudando a **reducir el sobreajuste** y mejorando la capacidad de generalización del modelo. Es especialmente útil cuando se tienen **muchas variables** o características correlacionadas, como en datasets de RRHH como *Attrition*.\n",
    "\n",
    "SVM(Elección abierta)\n",
    "\n",
    "Los modelos **SVM** son especialmente eficaces en espacios de alta dimensión y en problemas donde la separación entre clases no es lineal. Usando kernels como el **RBF**, el modelo puede encontrar **fronteras de decisión complejas**, mejorando el rendimiento incluso en casos con **datos no linealmente separables**.\n",
    "\n"
   ]
  },
  {
   "cell_type": "code",
   "execution_count": 38,
   "id": "74540a9b-8f23-479d-ac2b-5d383cbb6825",
   "metadata": {},
   "outputs": [
    {
     "name": "stdout",
     "output_type": "stream",
     "text": [
      "\n",
      "🔹 Entrenando Regresión Logística L1...\n",
      "✔️ Tiempo de entrenamiento: 0.07 segundos\n",
      "✔️ Balanced Accuracy: 0.7273\n",
      "✔️ Sensibilidad: 0.7089, Especificidad: 0.7457\n",
      "\n",
      "🔍 Reporte de clasificación:\n",
      "               precision    recall  f1-score   support\n",
      "\n",
      "           0       0.93      0.75      0.83       822\n",
      "           1       0.35      0.71      0.47       158\n",
      "\n",
      "    accuracy                           0.74       980\n",
      "   macro avg       0.64      0.73      0.65       980\n",
      "weighted avg       0.84      0.74      0.77       980\n",
      "\n",
      "\n",
      "🔹 Entrenando Regresión Logística L2...\n",
      "✔️ Tiempo de entrenamiento: 0.02 segundos\n",
      "✔️ Balanced Accuracy: 0.7303\n",
      "✔️ Sensibilidad: 0.7089, Especificidad: 0.7518\n",
      "\n",
      "🔍 Reporte de clasificación:\n",
      "               precision    recall  f1-score   support\n",
      "\n",
      "           0       0.93      0.75      0.83       822\n",
      "           1       0.35      0.71      0.47       158\n",
      "\n",
      "    accuracy                           0.74       980\n",
      "   macro avg       0.64      0.73      0.65       980\n",
      "weighted avg       0.84      0.74      0.77       980\n",
      "\n",
      "\n",
      "🔹 Entrenando SVM RBF...\n",
      "✔️ Tiempo de entrenamiento: 0.24 segundos\n",
      "✔️ Balanced Accuracy: 0.8596\n",
      "✔️ Sensibilidad: 0.7848, Especificidad: 0.9343\n",
      "\n",
      "🔍 Reporte de clasificación:\n",
      "               precision    recall  f1-score   support\n",
      "\n",
      "           0       0.96      0.93      0.95       822\n",
      "           1       0.70      0.78      0.74       158\n",
      "\n",
      "    accuracy                           0.91       980\n",
      "   macro avg       0.83      0.86      0.84       980\n",
      "weighted avg       0.92      0.91      0.91       980\n",
      "\n",
      "\n",
      "🔹 Entrenando SVM Lineal...\n",
      "✔️ Tiempo de entrenamiento: 0.48 segundos\n",
      "✔️ Balanced Accuracy: 0.7336\n",
      "✔️ Sensibilidad: 0.7215, Especificidad: 0.7457\n",
      "\n",
      "🔍 Reporte de clasificación:\n",
      "               precision    recall  f1-score   support\n",
      "\n",
      "           0       0.93      0.75      0.83       822\n",
      "           1       0.35      0.72      0.47       158\n",
      "\n",
      "    accuracy                           0.74       980\n",
      "   macro avg       0.64      0.73      0.65       980\n",
      "weighted avg       0.84      0.74      0.77       980\n",
      "\n"
     ]
    }
   ],
   "source": [
    "for nombre, modelo in modelos.items():\n",
    "    print(f\"\\n🔹 Entrenando {nombre}...\")\n",
    "    inicio = time.time()\n",
    "    modelo.fit(X_train, y_train)\n",
    "    tiempo = time.time() - inicio\n",
    "    predicciones = modelo.predict(X_test)\n",
    "    acc = balanced_accuracy_score(y_test, predicciones)\n",
    "    \n",
    "    # Cálculo de sensibilidad y especificidad\n",
    "    matriz = confusion_matrix(y_test, predicciones)\n",
    "    tn, fp, fn, tp = matriz.ravel()\n",
    "    sensibilidad = tp / (tp + fn) if (tp + fn) > 0 else 0\n",
    "    especificidad = tn / (tn + fp) if (tn + fp) > 0 else 0\n",
    "    \n",
    "    # Almacenar resultados\n",
    "    resultados[nombre] = {\n",
    "        \"Balanced Accuracy\": acc,\n",
    "        \"Sensibilidad\": sensibilidad,\n",
    "        \"Especificidad\": especificidad,\n",
    "        \"Tiempo de entrenamiento\": tiempo,\n",
    "        \"Reporte\": classification_report(y_test, predicciones)\n",
    "    }\n",
    "\n",
    "    print(f\"✔️ Tiempo de entrenamiento: {tiempo:.2f} segundos\")\n",
    "    print(f\"✔️ Balanced Accuracy: {acc:.4f}\")\n",
    "    print(f\"✔️ Sensibilidad: {sensibilidad:.4f}, Especificidad: {especificidad:.4f}\")\n",
    "    print(\"\\n🔍 Reporte de clasificación:\\n\", classification_report(y_test, predicciones))\n"
   ]
  },
  {
   "cell_type": "markdown",
   "id": "96fcc07c-7c0f-41df-b5d6-6b101796c872",
   "metadata": {},
   "source": [
    "## 🔧 Optimización de Hiperparámetros\n",
    "\n",
    "Aquí optimizamos los hiperparámetros de cada modelo utilizando **GridSearchCV**, lo que nos permite encontrar la mejor configuración para mejorar el rendimiento de los modelos.\n"
   ]
  },
  {
   "cell_type": "code",
   "execution_count": 39,
   "id": "8390d5e6-23eb-47e2-8608-b1d3ed61366e",
   "metadata": {},
   "outputs": [
    {
     "name": "stdout",
     "output_type": "stream",
     "text": [
      "\n",
      "🔎 Buscando los mejores hiperparámetros para cada modelo...\n",
      "\n",
      "🔍 Optimizando Regresión Logística L1...\n",
      "📈 Mejores hiperparámetros para Regresión Logística L1: {'C': 1}\n",
      "\n",
      "🔍 Optimizando Regresión Logística L2...\n",
      "📈 Mejores hiperparámetros para Regresión Logística L2: {'C': 10}\n",
      "\n",
      "🔍 Optimizando SVM RBF...\n",
      "📈 Mejores hiperparámetros para SVM RBF: {'C': 5, 'gamma': 0.1}\n",
      "\n",
      "🔍 Optimizando SVM Lineal...\n",
      "📈 Mejores hiperparámetros para SVM Lineal: {'C': 10}\n"
     ]
    }
   ],
   "source": [
    "# Optimización de hiperparámetros\n",
    "print(\"\\n🔎 Buscando los mejores hiperparámetros para cada modelo...\")\n",
    "parametros = {\n",
    "    \"Regresión Logística L1\": {\"C\": [0.1, 1, 5, 10, 20, 50]},\n",
    "    \"Regresión Logística L2\": {\"C\": [0.1, 1, 5, 10, 20, 50]},\n",
    "    \"SVM RBF\": {\"C\": [0.01, 0.1, 1, 5, 10],\n",
    "                \"gamma\": [0.0001, 0.001, 0.01, 0.1]},\n",
    "    \"SVM Lineal\": {\"C\": [0.01, 0.1, 1, 5, 10]}\n",
    "}\n",
    "\n",
    "modelos_optimizados = {}\n",
    "for nombre, param_grid in parametros.items():\n",
    "    print(f\"\\n🔍 Optimizando {nombre}...\")\n",
    "    grid_search = GridSearchCV(modelos[nombre], param_grid,\n",
    "                               scoring=\"balanced_accuracy\", cv=5, n_jobs=-1)\n",
    "    grid_search.fit(X_train, y_train)\n",
    "    modelos_optimizados[nombre] = grid_search.best_estimator_\n",
    "    print(f\"📈 Mejores hiperparámetros para {nombre}: {grid_search.best_params_}\")\n"
   ]
  },
  {
   "cell_type": "markdown",
   "id": "a13a3322-3ab7-4a71-8bc4-3c2d8f13ee5d",
   "metadata": {},
   "source": [
    "## 💾 Guardar Modelos Optimizados\n",
    "\n",
    "Guardamos los modelos optimizados en archivos **.pkl** utilizando **joblib**, para poder cargarlos más tarde y usarlos en nuevas predicciones.\n"
   ]
  },
  {
   "cell_type": "code",
   "execution_count": 40,
   "id": "1028b018-2000-4ac4-8500-36d1794aafa1",
   "metadata": {},
   "outputs": [
    {
     "name": "stdout",
     "output_type": "stream",
     "text": [
      "\n",
      "💾 Guardando modelos optimizados...\n",
      "✅ Modelo Regresión Logística L1 guardado en ../results/Regresión_Logística_L1.pkl\n",
      "✅ Modelo Regresión Logística L2 guardado en ../results/Regresión_Logística_L2.pkl\n",
      "✅ Modelo SVM RBF guardado en ../results/SVM_RBF.pkl\n",
      "✅ Modelo SVM Lineal guardado en ../results/SVM_Lineal.pkl\n"
     ]
    }
   ],
   "source": [
    "# Guardar modelos optimizados\n",
    "print(\"\\n💾 Guardando modelos optimizados...\")\n",
    "os.makedirs(\"../results/\", exist_ok=True)  # Crear la carpeta si no existe\n",
    "\n",
    "for name, model in modelos_optimizados.items():\n",
    "    filename = os.path.join(\"../results/\", f\"{name.replace(' ', '_')}.pkl\")\n",
    "    joblib.dump(model, filename)\n",
    "    print(f\"✅ Modelo {name} guardado en {filename}\")\n"
   ]
  },
  {
   "cell_type": "markdown",
   "id": "e8763db7-8776-4d5c-85e3-986c306833c1",
   "metadata": {},
   "source": [
    "## 📊 Comparación de Modelos Base vs Optimizados\n",
    "\n",
    "Comparamos los resultados de los modelos antes y después de la optimización, evaluando el **Balanced Accuracy** para cada modelo.\n"
   ]
  },
  {
   "cell_type": "code",
   "execution_count": 41,
   "id": "ae18c33d-ad90-4a08-aa07-70596c98f0ee",
   "metadata": {},
   "outputs": [
    {
     "name": "stdout",
     "output_type": "stream",
     "text": [
      "\n",
      "📊 Comparación de modelos antes y después de la optimización:\n",
      "Regresión Logística L1 - Base: 0.7273, Optimizado: 0.7273\n",
      "Regresión Logística L2 - Base: 0.7303, Optimizado: 0.7303\n",
      "SVM RBF - Base: 0.8596, Optimizado: 0.8718\n",
      "SVM Lineal - Base: 0.7336, Optimizado: 0.7330\n"
     ]
    }
   ],
   "source": [
    "# Comparación de modelos base vs optimizados\n",
    "print(\"\\n📊 Comparación de modelos antes y después de la optimización:\")\n",
    "modelos_lista = list(modelos.keys())\n",
    "acc_base = [resultados[m][\"Balanced Accuracy\"] for m in modelos_lista]\n",
    "acc_opt = [\n",
    "    balanced_accuracy_score(y_test, modelos_optimizados[m].predict(X_test)) for\n",
    "    m in modelos_lista]\n",
    "\n",
    "for i in range(len(modelos_lista)):\n",
    "    print(f\"{modelos_lista[i]} - Base: {acc_base[i]:.4f}, Optimizado: {acc_opt[i]:.4f}\")\n"
   ]
  },
  {
   "cell_type": "markdown",
   "id": "cf33684e-8f0a-4102-9441-785f24bdf72c",
   "metadata": {},
   "source": [
    "## 📈 Gráfico de Comparación\n",
    "\n",
    "Finalmente, mostramos un gráfico de barras que compara el **Balanced Accuracy** de los modelos antes y después de la optimización. Esto nos permite visualizar las mejoras obtenidas mediante la optimización de los hiperparámetros.\n"
   ]
  },
  {
   "cell_type": "code",
   "execution_count": 42,
   "id": "ca3c6bc7-bcbd-4e2d-8eb8-ebdc77dd16a5",
   "metadata": {},
   "outputs": [
    {
     "data": {
      "image/png": "[encoded data removed]",
      "text/plain": [
       "<Figure size 1000x600 with 1 Axes>"
      ]
     },
     "metadata": {},
     "output_type": "display_data"
    }
   ],
   "source": [
    "# Gráfico de comparación\n",
    "plt.figure(figsize=(10, 6))\n",
    "plt.bar(modelos_lista, acc_base, label=\"Base\", alpha=0.6, color=\"blue\")\n",
    "plt.bar(modelos_lista, acc_opt, label=\"Optimizado\", alpha=0.6, color=\"green\")\n",
    "plt.ylabel(\"Balanced Accuracy\")\n",
    "plt.title(\"Comparación de Modelos\")\n",
    "plt.legend()\n",
    "plt.show()\n"
   ]
  },
  {
   "cell_type": "markdown",
   "id": "28690fdf-2e4e-4e9b-abc2-0ddd68265836",
   "metadata": {
    "jp-MarkdownHeadingCollapsed": true
   },
   "source": [
    "# Random Forest (Elección abierta)\n",
    "\n",
    "Aplicamos técnicas de mejora como SMOTE para balancear las clases y una búsqueda de hiperparámetros con GridSearchCV. Esto permite entrenar un modelo más robusto y preciso frente al desbalanceo de clases.\n"
   ]
  },
  {
   "cell_type": "code",
   "execution_count": 1,
   "id": "9b7a77fe-20b5-48d3-8924-518149d4b2bb",
   "metadata": {},
   "outputs": [],
   "source": [
    "import pandas as pd\n",
    "import joblib\n",
    "import time\n",
    "import numpy as np\n",
    "import matplotlib.pyplot as plt\n",
    "import seaborn as sns\n",
    "from sklearn.ensemble import RandomForestClassifier\n",
    "from sklearn.metrics import balanced_accuracy_score, classification_report, confusion_matrix\n",
    "from sklearn.model_selection import GridSearchCV\n",
    "from imblearn.over_sampling import SMOTE\n"
   ]
  },
  {
   "cell_type": "markdown",
   "id": "db5d6a29-401c-48b0-851d-9aadf40e5851",
   "metadata": {},
   "source": [
    "## 📂 Carga de datos\n",
    "\n",
    "Leemos los conjuntos de entrenamiento y prueba que han sido previamente procesados y almacenados como archivos `.csv`.\n"
   ]
  },
  {
   "cell_type": "code",
   "execution_count": 2,
   "id": "f88dd1e4-38ab-4528-8208-61ba2f954c39",
   "metadata": {},
   "outputs": [],
   "source": [
    "X_train = pd.read_csv(\"../results/X_train.csv\")\n",
    "y_train = pd.read_csv(\"../results/y_train.csv\").values.ravel()\n",
    "X_test = pd.read_csv(\"../results/X_test.csv\")\n",
    "y_test = pd.read_csv(\"../results/y_test.csv\").values.ravel()\n"
   ]
  },
  {
   "cell_type": "markdown",
   "id": "b1eebde0-9cbc-434e-bd20-2f97c64c77cf",
   "metadata": {},
   "source": [
    "## ⚖️ Aplicación de SMOTE para balancear clases\n",
    "\n",
    "Se utiliza la técnica de **SMOTE (Synthetic Minority Over-sampling Technique)** para generar ejemplos sintéticos de la clase minoritaria.  \n",
    "Esto mejora el equilibrio entre clases y ayuda a que el modelo no esté sesgado hacia la clase mayoritaria.\n"
   ]
  },
  {
   "cell_type": "code",
   "execution_count": 3,
   "id": "800a1323-c674-4336-906e-ff501a512812",
   "metadata": {},
   "outputs": [
    {
     "name": "stdout",
     "output_type": "stream",
     "text": [
      "Aplicando SMOTE para mejorar el balance de clases en el conjunto de entrenamiento...\n",
      "Distribución de clases tras SMOTE:\n",
      " 0    1644\n",
      "1    1644\n",
      "Name: count, dtype: int64\n"
     ]
    }
   ],
   "source": [
    "print(\"Aplicando SMOTE para mejorar el balance de clases en el conjunto de entrenamiento...\")\n",
    "smote = SMOTE(random_state=16)\n",
    "X_train, y_train = smote.fit_resample(X_train, y_train)\n",
    "print(\"Distribución de clases tras SMOTE:\\n\", pd.Series(y_train).value_counts())\n"
   ]
  },
  {
   "cell_type": "markdown",
   "id": "c30ea6d8-0812-4c94-9ffe-8489d7ec9813",
   "metadata": {},
   "source": [
    "## 📏 Cálculo de métricas: Sensibilidad y Especificidad\n",
    "\n",
    "Definimos una función auxiliar que nos permite calcular métricas clave de clasificación binaria:  \n",
    "- **Sensibilidad (TPR)**: capacidad del modelo para detectar positivos.  \n",
    "- **Especificidad (TNR)**: capacidad del modelo para detectar negativos correctamente.\n"
   ]
  },
  {
   "cell_type": "code",
   "execution_count": 4,
   "id": "0f9969e2-611b-43c8-98ca-f07a2cd75490",
   "metadata": {},
   "outputs": [],
   "source": [
    "matriz = confusion_matrix(y_test, RandomForestClassifier().fit(X_train, y_train).predict(X_test))\n",
    "tn, fp, fn, tp = matriz.ravel()\n",
    "sensibilidad = tp / (tp + fn) if (tp + fn) > 0 else 0\n",
    "especificidad = tn / (tn + fp) if (tn + fp) > 0 else 0\n"
   ]
  },
  {
   "cell_type": "markdown",
   "id": "0bc28b61-3cc8-4be9-ac1f-27e72d2f5113",
   "metadata": {},
   "source": [
    "## 🌲 Entrenamiento del modelo base (Random Forest)\n",
    "\n",
    "Entrenamos un modelo **Random Forest** con hiperparámetros por defecto y clase balanceada.  \n",
    "Se mide el tiempo de entrenamiento para su comparación posterior.\n"
   ]
  },
  {
   "cell_type": "code",
   "execution_count": 5,
   "id": "4b509630-1da4-4684-8555-9af411e58293",
   "metadata": {},
   "outputs": [
    {
     "name": "stdout",
     "output_type": "stream",
     "text": [
      "\n",
      "Entrenando Random Forest con configuración estándar...\n"
     ]
    }
   ],
   "source": [
    "print(\"\\nEntrenando Random Forest con configuración estándar...\")\n",
    "inicio = time.time()\n",
    "modelo_rf = RandomForestClassifier(n_estimators=100, class_weight=\"balanced\", random_state=16)\n",
    "modelo_rf.fit(X_train, y_train)\n",
    "tiempo = time.time() - inicio\n"
   ]
  },
  {
   "cell_type": "markdown",
   "id": "13d01459-3d6f-4f59-939c-8178df8da20a",
   "metadata": {},
   "source": [
    "## 🔍 Evaluación del modelo base\n",
    "\n",
    "Evaluamos el rendimiento del modelo entrenado con las métricas:\n",
    "- Balanced Accuracy  \n",
    "- Sensibilidad (TPR)  \n",
    "- Especificidad (TNR)  \n",
    "- Reporte de clasificación completo\n"
   ]
  },
  {
   "cell_type": "code",
   "execution_count": 6,
   "id": "0456392e-e89a-4d23-8901-2ca8f8e79b85",
   "metadata": {},
   "outputs": [
    {
     "name": "stdout",
     "output_type": "stream",
     "text": [
      "Tiempo de entrenamiento: 0.72 segundos\n",
      " Balanced Accuracy: 0.8729\n",
      "Sensibilidad: 0.7532, Especificidad: 0.9927\n",
      "\n",
      "Reporte de clasificación:\n",
      "               precision    recall  f1-score   support\n",
      "\n",
      "           0       0.95      0.99      0.97       822\n",
      "           1       0.95      0.75      0.84       158\n",
      "\n",
      "    accuracy                           0.95       980\n",
      "   macro avg       0.95      0.87      0.91       980\n",
      "weighted avg       0.95      0.95      0.95       980\n",
      "\n"
     ]
    }
   ],
   "source": [
    "pred_rf = modelo_rf.predict(X_test)\n",
    "acc_rf = balanced_accuracy_score(y_test, pred_rf)\n",
    "matriz_rf = confusion_matrix(y_test, pred_rf)\n",
    "tn, fp, fn, tp = matriz_rf.ravel()\n",
    "sens_rf = tp / (tp + fn) if (tp + fn) > 0 else 0\n",
    "esp_rf = tn / (tn + fp) if (tn + fp) > 0 else 0\n",
    "\n",
    "print(f\"Tiempo de entrenamiento: {tiempo:.2f} segundos\")\n",
    "print(f\" Balanced Accuracy: {acc_rf:.4f}\")\n",
    "print(f\"Sensibilidad: {sens_rf:.4f}, Especificidad: {esp_rf:.4f}\")\n",
    "print(\"\\nReporte de clasificación:\\n\", classification_report(y_test, pred_rf))\n"
   ]
  },
  {
   "cell_type": "markdown",
   "id": "cbebeaac-1a4d-459c-b35e-34609c07ac15",
   "metadata": {},
   "source": [
    "## 🔎 Optimización de hiperparámetros (Grid Search)\n",
    "\n",
    "Usamos **GridSearchCV** para encontrar la mejor combinación de hiperparámetros para el modelo Random Forest, evaluando con validación cruzada y `balanced_accuracy` como métrica principal.\n"
   ]
  },
  {
   "cell_type": "code",
   "execution_count": 7,
   "id": "dfccb077-6660-4bb7-9bf3-bf1154792e24",
   "metadata": {},
   "outputs": [
    {
     "name": "stdout",
     "output_type": "stream",
     "text": [
      "\n",
      "Buscando los mejores hiperparámetros para Random Forest...\n",
      "\n",
      "Mejores hiperparámetros para Random Forest: {'max_depth': 20, 'min_samples_leaf': 1, 'min_samples_split': 2, 'n_estimators': 500}\n"
     ]
    }
   ],
   "source": [
    "print(\"\\nBuscando los mejores hiperparámetros para Random Forest...\")\n",
    "\n",
    "param_grid_rf = {\n",
    "    \"n_estimators\": [100, 200, 500],\n",
    "    \"max_depth\": [10, 20, None],\n",
    "    \"min_samples_split\": [2, 5, 10],\n",
    "    \"min_samples_leaf\": [1, 2, 4]\n",
    "}\n",
    "\n",
    "grid_rf = GridSearchCV(\n",
    "    RandomForestClassifier(class_weight=\"balanced\", random_state=16),\n",
    "    param_grid_rf, scoring=\"balanced_accuracy\", cv=5, n_jobs=-1\n",
    ")\n",
    "grid_rf.fit(X_train, y_train)\n",
    "modelo_rf_opt = grid_rf.best_estimator_\n",
    "\n",
    "print(f\"\\nMejores hiperparámetros para Random Forest: {grid_rf.best_params_}\")\n"
   ]
  },
  {
   "cell_type": "markdown",
   "id": "3834fbfa-3bfc-488f-bb4e-1a5b671c4f12",
   "metadata": {},
   "source": [
    "## 💾 Guardado del modelo optimizado\n",
    "\n",
    "Guardamos el mejor modelo obtenido tras la búsqueda de hiperparámetros en un archivo `.pkl` para reutilizarlo fácilmente en el futuro.\n"
   ]
  },
  {
   "cell_type": "code",
   "execution_count": 8,
   "id": "11057b29-5d35-4de4-9dc0-c32f5eaa37c2",
   "metadata": {},
   "outputs": [
    {
     "name": "stdout",
     "output_type": "stream",
     "text": [
      "\n",
      "✅ Modelo optimizado guardado en '../results/random_forest_optimized.pkl'\n"
     ]
    }
   ],
   "source": [
    "joblib.dump(modelo_rf_opt, \"../results/random_forest_optimized.pkl\")\n",
    "print(\"\\n✅ Modelo optimizado guardado en '../results/random_forest_optimized.pkl'\")\n"
   ]
  },
  {
   "cell_type": "markdown",
   "id": "39397c14-ef1a-44cc-a069-bc9d9101053b",
   "metadata": {},
   "source": [
    "## 📊 Comparación entre modelo base y optimizado\n",
    "\n",
    "Se comparan los valores de Balanced Accuracy entre el modelo base y el modelo optimizado para verificar si hubo mejora.\n"
   ]
  },
  {
   "cell_type": "code",
   "execution_count": 9,
   "id": "2a15f3ad-0424-4f1d-9c37-5d2f7ac0237d",
   "metadata": {},
   "outputs": [
    {
     "name": "stdout",
     "output_type": "stream",
     "text": [
      "\n",
      "Comparación de Resultados para Random Forest:\n",
      "Balanced Accuracy - Base: 0.8729, Optimizado: 0.8919\n"
     ]
    }
   ],
   "source": [
    "acc_rf_opt = balanced_accuracy_score(y_test, modelo_rf_opt.predict(X_test))\n",
    "\n",
    "print(\"\\nComparación de Resultados para Random Forest:\")\n",
    "print(f\"Balanced Accuracy - Base: {acc_rf:.4f}, Optimizado: {acc_rf_opt:.4f}\")\n"
   ]
  },
  {
   "cell_type": "markdown",
   "id": "a520f6c2-a302-4c14-a5bd-ada5e8989945",
   "metadata": {},
   "source": [
    "## 📈 Visualización de desempeño\n",
    "\n",
    "Se representa gráficamente la comparación entre el modelo base y el modelo optimizado usando un gráfico de barras.\n"
   ]
  },
  {
   "cell_type": "code",
   "execution_count": 10,
   "id": "f8654f7e-acb0-4ef2-86db-68c62b3b5182",
   "metadata": {},
   "outputs": [
    {
     "data": {
      "image/png": "[encoded data removed]",
      "text/plain": [
       "<Figure size 600x400 with 1 Axes>"
      ]
     },
     "metadata": {},
     "output_type": "display_data"
    }
   ],
   "source": [
    "plt.figure(figsize=(6, 4))\n",
    "plt.bar([\"Base\", \"Optimizado\"], [acc_rf, acc_rf_opt], color=[\"blue\", \"green\"], alpha=0.7)\n",
    "plt.ylabel(\"Balanced Accuracy\")\n",
    "plt.title(\"Comparación de Random Forest antes y después de optimización\")\n",
    "plt.show()\n"
   ]
  }
 ],
 "metadata": {
  "kernelspec": {
   "display_name": "Python 3 (ipykernel)",
   "language": "python",
   "name": "python3"
  },
  "language_info": {
   "codemirror_mode": {
    "name": "ipython",
    "version": 3
   },
   "file_extension": ".py",
   "mimetype": "text/x-python",
   "name": "python",
   "nbconvert_exporter": "python",
   "pygments_lexer": "ipython3",
   "version": "3.11.9"
  }
 },
 "nbformat": 4,
 "nbformat_minor": 5
}
